{
 "cells": [
  {
   "cell_type": "code",
   "execution_count": null,
   "id": "206a671e",
   "metadata": {},
   "outputs": [
    {
     "name": "stdout",
     "output_type": "stream",
     "text": [
      "https://youtu.be/668nUCeBHyY\n",
      "video title:- Nature Beautiful short video 720p HD\n"
     ]
    }
   ],
   "source": [
    "from tkinter import *\n",
    "from pytube import YouTube\n",
    "\n",
    "win = Tk()\n",
    "\n",
    "win.maxsize(width=300,height=300)\n",
    "win.minsize(width=300,height=300)\n",
    "win.title(\"Youtube Downloader\")\n",
    "win.iconbitmap(\"Youtube_icon.ico\")\n",
    "\n",
    "win.configure(bg=\"red2\")\n",
    "\n",
    "var=StringVar()\n",
    "var2=StringVar()\n",
    "\n",
    "def Highest_resolution():\n",
    "    url=var.get()\n",
    "    print(url)\n",
    "    video= YouTube(url)\n",
    "    print(\"video title:-\",video.title)\n",
    "    svideo = video.streams.get_highest_resolution()\n",
    "    svideo.download()\n",
    "    var2.set(\"Video downloaded\")\n",
    "    \n",
    "def p720():\n",
    "    url=var.get()\n",
    "    video= YouTube(url)\n",
    "    print(\"video title:-\",video.title)\n",
    "    svideo = video.streams.filter(progressive=True ,file_extension=\"mp4\").get_by_itag(22)\n",
    "    svideo.download()\n",
    "    var2.set(\"Video downloaded\")\n",
    "    \n",
    "def audio():\n",
    "    url=var.get()\n",
    "    video= YouTube(url)\n",
    "    print(\"video title:-\",video.title)\n",
    "    svideo = video.streams.filter(only_audio=True)\n",
    "    svideo.last().download()\n",
    "    var2.set(\"Audio downloaded\")\n",
    "    \n",
    "lbl1 = Label(win,text=\"Youtube Downloader\" ,fg=\"white\", bg=\"red2\", font=(\"MV Boli\",22,\"underline\"))\n",
    "lbl1.place(x=10,y=0)\n",
    "\n",
    "lbl2 = Label(win,text=\"Enter/Paste your \\nyoutube video link\" ,fg=\"white\", bg=\"coral1\", font = (\"Comic Sans MS\", 12,\"bold\"))\n",
    "lbl2.place(x=0,y=70)\n",
    "\n",
    "ent= Entry(win,bg=\"white\",fg=\"black\",textvariable=var, width=23)\n",
    "ent.place(x=150,y=80)\n",
    "\n",
    "btn1 = Button(win,text=\"Highest Resolution\", command = Highest_resolution)\n",
    "btn1.place(x=90,y=140)\n",
    "\n",
    "btn2 = Button(win,text=\"720p Resolution\", command = p720)\n",
    "btn2.place(x=90,y=180)\n",
    "\n",
    "btn3 = Button(win,text=\"Audio mp4\", command = audio)\n",
    "btn3.place(x=90,y=220)\n",
    "\n",
    "lbl3 = Label(win,fg=\"black\",bg=\"red2\",font = (\"Comic Sans MS\", 12,\"bold\"),textvariable=var2)\n",
    "lbl3.place(x=70,y=260)\n",
    "win.mainloop()"
   ]
  },
  {
   "cell_type": "code",
   "execution_count": null,
   "id": "8f04af62",
   "metadata": {},
   "outputs": [],
   "source": []
  },
  {
   "cell_type": "code",
   "execution_count": null,
   "id": "4aeab77a",
   "metadata": {},
   "outputs": [],
   "source": []
  }
 ],
 "metadata": {
  "kernelspec": {
   "display_name": "Python 3 (ipykernel)",
   "language": "python",
   "name": "python3"
  },
  "language_info": {
   "codemirror_mode": {
    "name": "ipython",
    "version": 3
   },
   "file_extension": ".py",
   "mimetype": "text/x-python",
   "name": "python",
   "nbconvert_exporter": "python",
   "pygments_lexer": "ipython3",
   "version": "3.9.7"
  }
 },
 "nbformat": 4,
 "nbformat_minor": 5
}
